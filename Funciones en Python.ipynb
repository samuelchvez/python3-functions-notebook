{
 "cells": [
  {
   "cell_type": "markdown",
   "metadata": {},
   "source": [
    "# Funciones en Python 3\n",
    "Bienvenido a la hoja de trabajo 6, día uno. En esta hoja de trabajo aprenderás a crear tus propias funciones, las cuales puedes imaginar como máquinas que realizan algún trabajo para los programadores. Por favor sigue todas las instrucciones en este notebook y ejecuta los bloques de código.\n",
    "\n",
    "## Abstracción\n",
    "Sin duda habías escuchado esta palabra antes y seguro también ya la has usado... pero estoy casi seguro que la habías entendido completamente al revés. Por eso te pido que tengas la mente abierta para comprender la definición que a continuación te voy a presentar.\n",
    "\n",
    "Imagina la abstracción como un videojuego con varios niveles:\n",
    "\n",
    "* Mientras mayor sea la abstracción, el nivel será más fácil y simple.\n",
    "* Mientras más baja sea la abstracción, el nivel será más difícil, más complejo y necesitaremos más herramientas para resolverlo.\n",
    "\n",
    "Por ejemplo, pensemos en un típico viaje en carro:\n",
    "\n",
    "### Niveles de Abstracción\n",
    "\n",
    "#### Nivel de abstracción alto (o muy fácil)\n",
    "Cuando era un niño, viajar en carro era muy sencillo... Mi mamá abría la puerta por mi, yo entraba al carro, me acurrucaba y dormía. Al final, mágicamente aparecía en el lugar destino, que para mi tristeza, muy probablemente era el portón del colegio.\n",
    "\n",
    "#### Nivel de abstracción medio (o medianamente complejo)\n",
    "Cuando estaba en diversificado, viajar en carro era un proceso más complejo. Mi papá poco a poco me enseñaba cómo funciona un carro, a echar gasolina y a pedir la vía cuando quería cambiarse de carril. Viajar en se volvió más complejo, ahora yo tenía un rol activo en el proceso.\n",
    "\n",
    "#### Nivel de abstracción bajo (o complejo)\n",
    "Ahora todos los días manejo carro. Un viaje en carro significa sentarme en el asiento del conductor, acelerar, cambiar velocidades, usar el clutch, pedir vía, hacerle servicio al carro, etcétera. Es un proceso en el que yo controlo lo que pasa, y por lo tanto debo trabajar con un nivel de abstracción bajo para manipular el carro.\n",
    "\n",
    "#### Niveles de abstracción aún más bajos (mucho más complejo)\n",
    "¿Cómo crees que un mecánico automotriz entiende un carro? Un viaje en carro lo pueden descomponer hasta en cómo funciona la combustión del motor, pueden determinar la razón de un zumbido extraño en el carro, saber qué falla a partir de las luces del tablero, entre otros. Esto implica una comprensión profunda del proceso de viajar en carro.\n",
    "Nivel (prácticamente) sin abstracción (complejísimo)\n",
    "¿Cómo creen que entienden el proceso de combustión de la gasolina un Ingeniero Químico y un Físico? Sin duda ellos pueden manejar un nivel de abstracción bajísimo, en el que entienden los procesos químicos y las interacciones atómicas que se llevan a cabo durante un viaje en carro.\n",
    "\n",
    "Es interesante darnos cuenta que para un mismo fenómeno o proceso, distintas personas manejan un nivel distinto de abstracción. Aún así, no todos necesitamos tener un nivel bajísimo en la abstracción para sacarle el mayor provecho a los procesos que hacemos a diario. Por ejemplo, para aprovechar mi carro no es requisito que entienda a un nivel molecular lo que pasa cuando presiono el pedal de acelerar, pero quizá si es necesario que entienda lo básico referente al buen uso del mismo. Es más, en muchas ocasiones es necesario tener un nivel alto de abstracción para mejorar la productividad y eficacia de los recursos con los que se cuentan.\n",
    "\n",
    "### Diagramas de caja\n",
    "Para representar la abstracción de un proceso muchas veces usamos un diagrama de caja negra. Estos diagramas representan un proceso, y nos permite olvidarnos del detalle de cómo se hace, para concentrarnos en qué hace. Vamos a entender a un proceso como un cambio, desde una situación inicial hacia una situación final.\n",
    "\n",
    "Tomemos de ejemplo mis viajes en carro cuando era niño:\n",
    "\n",
    "<br />\n",
    "<br />\n",
    "![alt text](res/img/viaje_carro_1.png \"Diagrama de caja negra viaje en carro\")\n",
    "<br />\n",
    "<br />\n",
    "\n",
    "Desde mi perspectiva de niño, viajar en carro se veía así. Un proceso abstracto en el que básicamente entraba al carro y al rato salía en el colegio. La caja negra nos sirve como un escudo de abstracción, que nos obliga a pensar en el proceso como un cambio. \n",
    "\n",
    "Poniendo los pies en la tierra, vamos a hacer ahora un ejemplo de una caja negra encargada de sumar dos números:\n",
    "\n",
    "<br />\n",
    "<br />\n",
    "![alt text](res/img/sum.png \"Diagrama de caja negra suma\")\n",
    "<br />\n",
    "<br />\n",
    "\n",
    "Esta caja parte de dos números, y de alguna forma desconocida, obtiene un resultado. \n",
    "Para entender completamente una caja negra, es necesario que la analicemos de una manera muy parecida a como lo hacíamos con las preguntas insustituibles:\n",
    "\n",
    "* **¿Cuál es su propósito?** necesitamos saber la razón de la existencia de una caja negra, todas deben tener una utilidad clara.\n",
    "* **¿Cuál es su nombre?** todas las cajas negras necesitan ser nombradas, para referirnos a ellas de forma sencilla.\n",
    "* **¿Qué información recibe como entrada?** los datos que una caja negra recibe como información de entrada se conocen como parámetros o argumentos. Es súmamente importante el orden de los mismos.\n",
    "* **¿Qué resultado se espera obtener?** toda caja negra debe producir un resultado (siempre se debe incluir el tipo de dato esperado como resultado).\n",
    "\n",
    "Pongamos de ejemplo la caja negra anterior:\n",
    "\n",
    "* **Propósito**: realizar sumas de dos números.\n",
    "* **Nombre**: sumar\n",
    "* **Entrada**: dos números, num1 y num2\n",
    "* **Resultado**: la suma de num1 y num2, lo cual es también un número\n",
    "\n",
    "## Funciones\n",
    "En Python, y en general al programar, es importantísimo darnos cuenta de los beneficios de la abstracción de procesos. Tomemos de ejemplo la función print:"
   ]
  },
  {
   "cell_type": "code",
   "execution_count": 3,
   "metadata": {},
   "outputs": [
    {
     "name": "stdout",
     "output_type": "stream",
     "text": [
      "muajaja!\n"
     ]
    }
   ],
   "source": [
    "print(\"muajaja!\")"
   ]
  },
  {
   "cell_type": "markdown",
   "metadata": {},
   "source": [
    "Cuando nosotros corremos el anterior comando, tenemos la plena confianza que al ejecutarlo, la computadora se reirá de forma malvada. ¿Sabes la forma exacta en la que print funciona? ¿cómo le hace para que se muestre algo en pantalla? ¿no? ¡yo tampoco! y esa es exactamente la idea.\n",
    "\n",
    "Los programadores de Python nos regalaron esta función que abstrae un proceso muy complejo, y nos dan ahora la facilidad de escribir en pantalla de forma tan fácil.\n",
    "\n",
    "¿Te das cuenta del poder de la abstracción? ¿si? es por eso que en vamos hoy a aprender a hacer funciones.\n",
    "\n",
    "### Mi primera función\n",
    "Te presento tu primera función `sumar`:"
   ]
  },
  {
   "cell_type": "code",
   "execution_count": 6,
   "metadata": {},
   "outputs": [],
   "source": [
    "def sumar(num1, num2):\n",
    "    resultado = num1 + num2\n",
    "    return resultado"
   ]
  },
  {
   "cell_type": "markdown",
   "metadata": {},
   "source": [
    "El análisis de esta función es el mismo que hicimos hace un momento:\n",
    "\n",
    "* **Propósito**: realizar sumas de dos números.\n",
    "* **Nombre**: sumar\n",
    "* **Entrada**: dos números, num1 y num2\n",
    "* **Resultado**: la suma de num1 y num2, lo cual es también un número\n",
    "\n",
    "Al ejecutar el código anterior, te habrás dado cuenta que el notebook no presenta ningún resultado. ¿Tienes idea por qué?, este código contiene únicamente la definición de una función.\n",
    "\n",
    "La definición de una función describe lo que la función hace y es, pero en este punto, la función aún no se ha usado (o en términos más técnicos, la función aún no se ha **ejecutado**).\n",
    "\n",
    "### Anatomía de una función\n",
    "Analicemos cada una de las partes de la definición de una función:\n",
    "\n",
    "* Primero encontramos la palabra reservada `def`, la cual indica que vamos a definir una función.\n",
    "* Luego lo sigue el nombre de la función, en este caso: `sumar`\n",
    "* Los paréntesis indican los **parámetros**, o datos de entrada, para la función.\n",
    "* La definición de la función termina con dos puntos, lo cual indica que va a iniciar todo el código de la función. Cada instrucción está **indentada**, lo que quiere decir es que cada línea inicia con cuatro espacios.\n",
    "* La función termina con una instrucción `return`, lo que provoca que la función termine y que devuelva el resultado almacenado en la variable resultado.\n",
    "\n",
    "Para nosotros, los programadores de la función sumar, la diferencia indiscutible entre la función **print** y la función **sumar** es que print no tenemos idea cómo funciona, pero sumar sabemos exactamente cada línea de código que produce el resultado esperado. Es por eso que podemos imaginarnos la función sumar como una **caja blanca** (o quizá transparente), en lo que podemos ver exactamente qué está pasando adentro:\n",
    "\n",
    "<br />\n",
    "<br />\n",
    "![alt text](res/img/sum_whitebox.png \"Diagrama de caja blanca suma\")\n",
    "<br />\n",
    "<br />\n",
    "\n",
    "### Usando una función\n",
    "Para usar una función basta con escribir el nombre de la misma, seguida de paréntesis y los datos que se requieren para que esta funcione (parámetros):\n"
   ]
  },
  {
   "cell_type": "code",
   "execution_count": 8,
   "metadata": {},
   "outputs": [
    {
     "data": {
      "text/plain": [
       "15"
      ]
     },
     "execution_count": 8,
     "metadata": {},
     "output_type": "execute_result"
    }
   ],
   "source": [
    "sumar(5, 10)"
   ]
  },
  {
   "cell_type": "code",
   "execution_count": 10,
   "metadata": {},
   "outputs": [
    {
     "data": {
      "text/plain": [
       "100"
      ]
     },
     "execution_count": 10,
     "metadata": {},
     "output_type": "execute_result"
    }
   ],
   "source": [
    "sumar(20, 80)"
   ]
  },
  {
   "cell_type": "code",
   "execution_count": 12,
   "metadata": {},
   "outputs": [
    {
     "name": "stdout",
     "output_type": "stream",
     "text": [
      "El resultado es: 17\n"
     ]
    }
   ],
   "source": [
    "mi_resultado = sumar(-5, 22)\n",
    "print(\"El resultado es:\", mi_resultado)"
   ]
  },
  {
   "cell_type": "markdown",
   "metadata": {},
   "source": [
    "Como te habrás dado cuenta, el resultado de ejecutar una función se puede almacenar en una variable, para luego usarla de la forma que prefieras.\n",
    "\n",
    "### Módulos\n",
    "Generalmente las funciones son agrupadas en archivos con extensión **.py**. A estos archivos comunmente les llamamos **módulos**. Imaginémonos que tenemos un archivo llamado **aritmetica.py**, el cual contiene lo siguiente:"
   ]
  },
  {
   "cell_type": "code",
   "execution_count": 8,
   "metadata": {},
   "outputs": [],
   "source": [
    "# aritmetica.py\n",
    "\n",
    "def sumar(num1, num2):\n",
    "    return num1 + num2\n",
    "\n",
    "def restar(num1, num2):\n",
    "    return num1 - num2\n",
    "\n",
    "def multiplicar(num1, num2):\n",
    "    return num1 * num2\n",
    "\n",
    "def dividir(num1, num2):\n",
    "    if num2 != 0:\n",
    "        return num1 / num2\n",
    "    \n",
    "    return None"
   ]
  },
  {
   "cell_type": "markdown",
   "metadata": {},
   "source": [
    "Algunas reglas que debemos seguir para crear módulos son las siguientes:\n",
    "\n",
    "* En los módulos no se ejecutan las funciones, en un momentito te voy a explicar dónde se ejecutan\n",
    "* Los módulos agrupan funciones relacionadas, por ejemplo el archivo anterior (**aritmetica.py**) agrupa funciones para realizar operaciones aritméticas simples.\n",
    "* El nombre del archivo del módulo es el nombre del módulo, y por lo tanto debe nombrarse de tal forma que de una idea clara del tipo de funciones que contiene.\n",
    "\n",
    "Esto nos da la idea que un módulo puede contener más de una función, entonces, si cada función es una caja negra (como una máquina), nos imaginamos a los módulos como una bodega de máquinas:\n",
    "\n",
    "Los módulos son bastante fáciles de comprender, pero estoy casi seguro que ahorita te surge la duda que si en un módulo no se ejecutan sus funciones, ¿en dónde entonces? Justo a eso vamos ahora...\n",
    "\n",
    "<br />\n",
    "<br />\n",
    "![alt text](res/img/module.png \"Módulo\")\n",
    "<br />\n",
    "<br />\n",
    "\n",
    "### Programas principales\n",
    "Vamos a llamarles programas principales a los archivos con extensión **.py** que se usan para implementar la lógica principal de sus proyectos u hojas de trabajo. Imaginémonos que tenemos un archivo llamado **uso_aritmetica.py** con el siguiente contenido:"
   ]
  },
  {
   "cell_type": "code",
   "execution_count": 19,
   "metadata": {},
   "outputs": [
    {
     "name": "stdout",
     "output_type": "stream",
     "text": [
      "15\n"
     ]
    }
   ],
   "source": [
    "# uso_aritmetica.py\n",
    "from aritmetica import sumar\n",
    "\n",
    "a = 5\n",
    "b = 10\n",
    "valor = sumar(a, b)\n",
    "print(valor)"
   ]
  },
  {
   "cell_type": "markdown",
   "metadata": {},
   "source": [
    "Ahora analicemos lo que está sucediendo:\n",
    "\n",
    "* En la segunda línea encontramos la palabra reservada `from`, que indica que vamos a referirnos a un módulo.\n",
    "* Luego viene seguido del nombre de un módulo, en este caso aritmetica. Recuerda que **no debes incluir la extensión .py** en el nombre del módulo.\n",
    "* Luego sigue la palabra reservada `import`, que nos indica que desde prueba_aritmetica.py tenemos la intención de usar una función que se encuentra en **aritmetica.py**. La función que se importa se llama `sumar`, y ahora está disponible para usarse en el programa principal.\n",
    "* La línea 3, 4, y 5 no tienen nada interesante, solo asignamos el valor a dos variables.\n",
    "* La línea 6 **ejecuta** (o llama) a la función `sumar`, con a y b como parámetros.\n",
    "* Sumar calcula la suma y retorna el resultado, listo para ser almacenado en la variable `valor`.\n",
    "* Finalmente la línea 7 imprime el resultado.\n",
    "\n",
    "¿Te das cuenta que a y b se convirtieron en num1 y num2 cuando se invocó la función sumar? ¿no? veamos el siguiente diagrama:\n",
    "\n",
    "<br />\n",
    "<br />\n",
    "![alt text](res/img/sum_execution.png \"Diagrama de caja blanca ejecución de la función sumar\")\n",
    "<br />\n",
    "<br />\n",
    "\n",
    "Comparemos las siguientes dos líneas: en **aritmetica.py** `def sumar(num1, num2)` y en **prueba_aritmetica.py** `valor = sumar(a, b)`.\n",
    "\n",
    "`num1` es el primer parámetro, `num2` es el segundo parámetro de la función `sumar`, por eso cuando llamamos `sumar(a, b)`, se dice que `a` y `b` son el primer y segundo **argumento**, lo cual significa que:\n",
    "\n",
    "* `a` se convierte en el primer parámetro (`num1`) dentro de la función `sumar`\n",
    "* `b` se convierte en el segimdp parámetro (`num2`) dentro de la función `sumar`\n",
    "\n",
    "Si llegaste a este punto y entendiste ¡buen trabajo! este tema es algo complejo, y lo más difícil ya pasó :)\n",
    "\n",
    "## Tips y observaciones sobre las funciones\n",
    "A continuación algunos tips que harán tus funciones mucho mejores:\n",
    "\n",
    "### Utilidad en las funciones\n",
    "Es una buena idea que creemos funciones con una utilidad significativa. Los ejemplos que hemos trabajado hasta este punto han sido muy sencillos, pero está bien para efectos de tu aprendizaje. Ahora te voy a enseñar una función más compleja:\n"
   ]
  },
  {
   "cell_type": "code",
   "execution_count": 2,
   "metadata": {},
   "outputs": [],
   "source": [
    "# utilidades.py\n",
    "\n",
    "def factorial(num):\n",
    "    if num < 0:\n",
    "        return -1\n",
    "    else:\n",
    "        resultado = 1\n",
    "\n",
    "        for i in range(num):\n",
    "            resultado *= (i + 1)\n",
    "\n",
    "    return resultado"
   ]
  },
  {
   "cell_type": "code",
   "execution_count": 5,
   "metadata": {},
   "outputs": [
    {
     "name": "stdout",
     "output_type": "stream",
     "text": [
      "Ingrese un numero para calcular su factorial: 10\n",
      "El resultado es: 3628800\n"
     ]
    }
   ],
   "source": [
    "# usando_utilidades.py\n",
    "\n",
    "from utilidades import factorial\n",
    "\n",
    "x = int(input(\"Ingrese un numero para calcular su factorial: \"))\n",
    "resultado = factorial(x)\n",
    "print(\"El resultado es:\", resultado)"
   ]
  },
  {
   "cell_type": "markdown",
   "metadata": {},
   "source": [
    "### Múltiples returns\n",
    "\n",
    "La función anterior función es más compleja que los demás ejemplos anteriores, y nos ayuda a calcular el valor factorial de un número ([leer más](https://es.wikipedia.org/wiki/Factorial)). Es importante que de este ejemplo notes que una función puede tener más de un return en su cuerpo. Lo que no puede suceder es que haya código que se trate de ejecutar luego del return, porque nada de ese código se ejecutaría. Por ejemplo, en el siguiente código, las líneas 4, 5, y 6 no se ejecutarán:\n"
   ]
  },
  {
   "cell_type": "code",
   "execution_count": 7,
   "metadata": {},
   "outputs": [],
   "source": [
    "def saludo(nombre):\n",
    "    return \"Hola \" + nombre\n",
    "    if nombre == \"Samuel\": # Nunca se ejecuta\n",
    "        return \"Tu nombre empieza con S\" # Nunca se ejecuta\n",
    "    return \"Tu nombre no empieza con S\" # Nunca se ejecuta"
   ]
  },
  {
   "cell_type": "markdown",
   "metadata": {},
   "source": [
    "### Variables que almacenan el valor retornado\n",
    "¿No se si notaste que el resultado de una función se puede almacenar en una variable?"
   ]
  },
  {
   "cell_type": "code",
   "execution_count": 11,
   "metadata": {},
   "outputs": [
    {
     "name": "stdout",
     "output_type": "stream",
     "text": [
      "15\n"
     ]
    }
   ],
   "source": [
    "valor = sumar(5, 10)\n",
    "print(valor)"
   ]
  },
  {
   "cell_type": "markdown",
   "metadata": {},
   "source": [
    "Siempre que una función utilice la instrucción `return`, el valor que se devuelva, puede almacenarse en una variable.\n",
    "\n",
    "### Composición de funciones\n",
    "Antes de continuar, quiero que veas esta imagen:\n",
    "\n",
    "<br />\n",
    "<br />\n",
    "![alt text](res/img/func_comp_1.png \"Diagrama de cajas negras de una composición de funciones\")\n",
    "<br />\n",
    "<br />\n",
    "\n",
    "Esto quiere decir que el resultado de una función se puede usar como parámetro de otra función, en Python esto se vería así:"
   ]
  },
  {
   "cell_type": "code",
   "execution_count": 13,
   "metadata": {},
   "outputs": [
    {
     "name": "stdout",
     "output_type": "stream",
     "text": [
      "El resultado es: 3628800\n"
     ]
    }
   ],
   "source": [
    "resultado = factorial(sumar(6, 4))\n",
    "print(\"El resultado es:\", resultado)"
   ]
  },
  {
   "cell_type": "markdown",
   "metadata": {},
   "source": [
    "El valor almacenado en `resultado` será el factorial de 10, puesto que 10 es el valor devuelto por la función `sumar`. Ahora otro ejemplo:\n",
    "\n",
    "<br />\n",
    "<br />\n",
    "![alt text](res/img/func_comp_2.png \"Diagrama de cajas negras de una composición de funciones\")\n",
    "<br />\n",
    "<br />\n"
   ]
  },
  {
   "cell_type": "code",
   "execution_count": 16,
   "metadata": {},
   "outputs": [
    {
     "name": "stdout",
     "output_type": "stream",
     "text": [
      "El resultado es: 40\n"
     ]
    }
   ],
   "source": [
    "resultado = multiplicar(sumar(6, 4), restar(8, 4))\n",
    "print(\"El resultado es:\", resultado)"
   ]
  },
  {
   "cell_type": "markdown",
   "metadata": {},
   "source": [
    "El valor almacenado en `resultado` será la multiplicación de 10 y 4, que son el resultado de `sumar(6, 4)` y `restar(8, 4)`, respectivamente.\n",
    "\n",
    "Antes de terminar esta discusión, quiero que pienses que cuando llamamos una función, el valor devuelto por ella puede ser usado como parte de una expresión. Por ejemplo, ¿puedes adivinar qué valor se mostrará en pantalla en el siguiente código? (trata de adivinar antes de ejecutar el siguiente bloque)\n"
   ]
  },
  {
   "cell_type": "code",
   "execution_count": 18,
   "metadata": {},
   "outputs": [
    {
     "name": "stdout",
     "output_type": "stream",
     "text": [
      "55\n"
     ]
    }
   ],
   "source": [
    "valor = 5 + multiplicar(30, sumar(1, 1)) - 10\n",
    "print(valor)"
   ]
  },
  {
   "cell_type": "markdown",
   "metadata": {},
   "source": [
    "El valor que se imprime será `55`. Nos podemos imaginar que al invocar una función, esta se  reemplaza por el valor que devuelve (`return`):\n",
    "\n",
    "```Python\n",
    "valor = 5 + multiplicar(30, 2) - 10\n",
    "\n",
    "# O así:\n",
    "\n",
    "valor = 5 + 60 - 10\n",
    "```"
   ]
  },
  {
   "cell_type": "markdown",
   "metadata": {},
   "source": [
    "## Recomendaciones Finales\n",
    "Antes de concluir esta primera parte de la hoja de trabajo, quiero darte unos consejos sobre la creación de funciones:\n",
    "\n",
    "* El nombre de las funciones debe escribirse siempre en minúsculas, de ser necesario se pueden separar partes del nombre usando guiones bajos ( _ ).\n",
    "* El nombre de las funciones debe ser un verbo o un verbo compuesto, por ejemplo: `sumar`, `restar` o `descargar_boleta_de_notas`.\n",
    "* Una función debe tener un solo objetivo.\n",
    "* Una función, a la medida de lo posible, siempre debe devolver un valor.\n",
    "* Y esta es bien importante, hasta voy a agregar la siguiente imagen para que nunca se les olvide:\n"
   ]
  },
  {
   "cell_type": "code",
   "execution_count": 21,
   "metadata": {},
   "outputs": [
    {
     "name": "stdout",
     "output_type": "stream",
     "text": [
      "\n",
      "░░░░░░░░░░░░░░░░░░░░░░░░░░░░░░▄▄███░░░░░\n",
      "░░▄▄░░░░░░░░░░░░░░░░░░░░░░░░░███████░░░░\n",
      "░░███▄░░░░░░░░░░░░░░░░░░░░░▄█████▀░█░░░░\n",
      "░░▀█████▄▄▄▄▀▀▀▀▀▀▀▀░▄▄▄▄▄███▀▀░▀███░░░░\n",
      "░░░░███▀▀░░░░░░░░░░░░░░▀▀▀███░░░░██▀░░░░\n",
      "░░░░██░░░░░░▄░░░░░░░░░░░░░░░▀▀▄▄███░░░░░\n",
      "░░░░▄█▄▄████▀█░█▄██▄▄░░░░░░░░░████▀░░░░░\n",
      "░░░▄████████░░░██████▄▄▄▄░░░░░████░░░░░░\n",
      "░░░███░█░▀██░░░▀███░█░░███▄▄░░░░▀█░░░░░░\n",
      "░░░████▄███▄▄░░░███▄▄▄█████▀░░░░░██░░░░░\n",
      "░░▄████▀▀░▀██▀░░░▀█████████░░░░░░██░░░░░\n",
      "░░▀███░░░▄▄▀▀▀▄▄░░░░▀██████░░░░░░░█░░░░░\n",
      "░░░███░░█░░░░░░░▀░░░░▀███▀░░░░░░░░█░░░░░\n",
      "░░░████▄▀░░░░░░░░▀░░░████▄░░░░░░░░░█░░░░\n",
      "░░░██████▄░░░░░░░░░▀▀████▀░░░░░░░░░█░░░░\n",
      "░░▄█████████▀▀▀▀░░░░░░░░░░░░░░░░░░░▀█░░░\n",
      "░░███████████▄▄▄▄░░░░░░░░░░░░░░░░░░░█▄░░\n",
      "░░████████▀▀▀▀▀▀░░░░░░░░░░░░░░░░░░░░░█▄░\n",
      "░░████████▄▄░░░░░░░░░░░░░░░░░░░░░░░░░░█░\n",
      "░▄███████▄▄░░░░░░░░░░░░░░░░░░░░░░░░░░░░█\n",
      "░▀▀▀▀▀▀▀▀▀█▀▀▀░░░░░░░░░░░░░░░░░░░░░░░░░█\n",
      "░░██░░░░██░░▄▄█████▄▄░░██████▄░███████░░\n",
      "░░███▄░░██░▄██▀░░░▀██▄░██░░░▀████░░░░░░░\n",
      "░░█████░█████░░░░░░░█████░░▄▄████▄▄▄▄▄░░\n",
      "░░██░▀████▀██░░░░░░░██▀██████▀░██▀▀▀▀▀░░\n",
      "░░██░░░███░▀██▄▄▄▄▄██▀░██░░░░░░██▄▄▄▄▄░░\n",
      "░░▀▀░░░░▀▀░░░▀▀███▀▀░░░▀▀░░░░░░▀▀▀▀▀▀▀░░\n",
      "\n"
     ]
    }
   ],
   "source": [
    "from grumpy_cat import IMAGE\n",
    "print(IMAGE)"
   ]
  },
  {
   "cell_type": "markdown",
   "metadata": {},
   "source": [
    "# Traten de no usar print ni input dentro de una función. Eso generalmente se usa desde el programa principal, no en el módulo.\n",
    "Claro, existen excepciones, pero no son muchas."
   ]
  }
 ],
 "metadata": {
  "kernelspec": {
   "display_name": "Python 3",
   "language": "python",
   "name": "python3"
  },
  "language_info": {
   "codemirror_mode": {
    "name": "ipython",
    "version": 3
   },
   "file_extension": ".py",
   "mimetype": "text/x-python",
   "name": "python",
   "nbconvert_exporter": "python",
   "pygments_lexer": "ipython3",
   "version": "3.5.2"
  }
 },
 "nbformat": 4,
 "nbformat_minor": 2
}
